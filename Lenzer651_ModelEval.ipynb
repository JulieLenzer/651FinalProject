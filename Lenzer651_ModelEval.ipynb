{
 "cells": [
  {
   "cell_type": "markdown",
   "metadata": {},
   "source": [
    "# MSML651 Final Project\n",
    "## Part 1: Model Evaluation\n",
    "## Julie Lenzer\n",
    "\n",
    "In this project, I am investigating the classification of poker hands given an ordered list of cards in a draw. This portion of the project is exploring various different classification models to determine which one performs best on the given data set."
   ]
  },
  {
   "cell_type": "code",
   "execution_count": 32,
   "metadata": {},
   "outputs": [],
   "source": [
    "import pandas as pd\n",
    "import numpy as np"
   ]
  },
  {
   "cell_type": "code",
   "execution_count": 33,
   "metadata": {},
   "outputs": [],
   "source": [
    "import warnings\n",
    "warnings.filterwarnings(\"ignore\",category=DeprecationWarning)"
   ]
  },
  {
   "cell_type": "markdown",
   "metadata": {},
   "source": [
    "## Create file to redirect output to it"
   ]
  },
  {
   "cell_type": "code",
   "execution_count": 34,
   "metadata": {},
   "outputs": [],
   "source": [
    "import sys\n",
    "    \n",
    "original_stdout = sys.stdout # Save a reference to the original standard output\n",
    "outf = open(\"LenzerOut-ModelEval.txt\", \"w\")\n",
    "sys.stdout = outf # Change the standard output to the file we created.\n",
    "print(\"MSML651 - Lenzer Final Project\\nModel Evaluation\", \"\\n\\n\")"
   ]
  },
  {
   "cell_type": "markdown",
   "metadata": {},
   "source": [
    "## Load Data and Extract Features\n",
    "The data set comes from https://www.kaggle.com/rasvob/uci-poker-hand-dataset. There are 25,010 elements in the training data and 1,000,000 in the testing, for which I will use pyspark to process once a model is selected."
   ]
  },
  {
   "cell_type": "code",
   "execution_count": 35,
   "metadata": {},
   "outputs": [
    {
     "data": {
      "text/html": [
       "<div>\n",
       "<style scoped>\n",
       "    .dataframe tbody tr th:only-of-type {\n",
       "        vertical-align: middle;\n",
       "    }\n",
       "\n",
       "    .dataframe tbody tr th {\n",
       "        vertical-align: top;\n",
       "    }\n",
       "\n",
       "    .dataframe thead th {\n",
       "        text-align: right;\n",
       "    }\n",
       "</style>\n",
       "<table border=\"1\" class=\"dataframe\">\n",
       "  <thead>\n",
       "    <tr style=\"text-align: right;\">\n",
       "      <th></th>\n",
       "      <th>S1</th>\n",
       "      <th>C1</th>\n",
       "      <th>S2</th>\n",
       "      <th>C2</th>\n",
       "      <th>S3</th>\n",
       "      <th>C3</th>\n",
       "      <th>S4</th>\n",
       "      <th>C4</th>\n",
       "      <th>S5</th>\n",
       "      <th>C5</th>\n",
       "      <th>Y</th>\n",
       "    </tr>\n",
       "  </thead>\n",
       "  <tbody>\n",
       "    <tr>\n",
       "      <th>0</th>\n",
       "      <td>2</td>\n",
       "      <td>11</td>\n",
       "      <td>2</td>\n",
       "      <td>13</td>\n",
       "      <td>2</td>\n",
       "      <td>10</td>\n",
       "      <td>2</td>\n",
       "      <td>12</td>\n",
       "      <td>2</td>\n",
       "      <td>1</td>\n",
       "      <td>9</td>\n",
       "    </tr>\n",
       "    <tr>\n",
       "      <th>1</th>\n",
       "      <td>3</td>\n",
       "      <td>12</td>\n",
       "      <td>3</td>\n",
       "      <td>11</td>\n",
       "      <td>3</td>\n",
       "      <td>13</td>\n",
       "      <td>3</td>\n",
       "      <td>10</td>\n",
       "      <td>3</td>\n",
       "      <td>1</td>\n",
       "      <td>9</td>\n",
       "    </tr>\n",
       "    <tr>\n",
       "      <th>2</th>\n",
       "      <td>4</td>\n",
       "      <td>10</td>\n",
       "      <td>4</td>\n",
       "      <td>11</td>\n",
       "      <td>4</td>\n",
       "      <td>1</td>\n",
       "      <td>4</td>\n",
       "      <td>13</td>\n",
       "      <td>4</td>\n",
       "      <td>12</td>\n",
       "      <td>9</td>\n",
       "    </tr>\n",
       "    <tr>\n",
       "      <th>3</th>\n",
       "      <td>4</td>\n",
       "      <td>1</td>\n",
       "      <td>4</td>\n",
       "      <td>13</td>\n",
       "      <td>4</td>\n",
       "      <td>12</td>\n",
       "      <td>4</td>\n",
       "      <td>11</td>\n",
       "      <td>4</td>\n",
       "      <td>10</td>\n",
       "      <td>9</td>\n",
       "    </tr>\n",
       "    <tr>\n",
       "      <th>4</th>\n",
       "      <td>1</td>\n",
       "      <td>2</td>\n",
       "      <td>1</td>\n",
       "      <td>4</td>\n",
       "      <td>1</td>\n",
       "      <td>5</td>\n",
       "      <td>1</td>\n",
       "      <td>3</td>\n",
       "      <td>1</td>\n",
       "      <td>6</td>\n",
       "      <td>8</td>\n",
       "    </tr>\n",
       "  </tbody>\n",
       "</table>\n",
       "</div>"
      ],
      "text/plain": [
       "   S1  C1  S2  C2  S3  C3  S4  C4  S5  C5  Y\n",
       "0   2  11   2  13   2  10   2  12   2   1  9\n",
       "1   3  12   3  11   3  13   3  10   3   1  9\n",
       "2   4  10   4  11   4   1   4  13   4  12  9\n",
       "3   4   1   4  13   4  12   4  11   4  10  9\n",
       "4   1   2   1   4   1   5   1   3   1   6  8"
      ]
     },
     "execution_count": 35,
     "metadata": {},
     "output_type": "execute_result"
    }
   ],
   "source": [
    "fdata = pd.read_csv(\"poker-hand-training.data\")\n",
    "fdata.columns = [\"S1\",\"C1\",\"S2\",\"C2\",\"S3\",\"C3\",\"S4\",\"C4\",\"S5\",\"C5\",\"Y\"]\n",
    "fdata.head()"
   ]
  },
  {
   "cell_type": "code",
   "execution_count": 36,
   "metadata": {},
   "outputs": [],
   "source": [
    "#Extract the features (X) from the data and also pull out what we are trying to predict (Y)\n",
    "X = fdata.iloc[:,2:-1].copy()\n",
    "Y = fdata['Y']"
   ]
  },
  {
   "cell_type": "markdown",
   "metadata": {},
   "source": [
    "## Data and Model Prep\n",
    "First, the training set is divided into training and test data sets with a 70/30 split. "
   ]
  },
  {
   "cell_type": "code",
   "execution_count": 37,
   "metadata": {},
   "outputs": [],
   "source": [
    "# Using JUST the training data set, break that into train / test in order to determine the \"best\" model to use \n",
    "# for this classification task\n",
    "from sklearn.model_selection import train_test_split\n",
    "x_train, x_test, y_train, y_test = train_test_split(X,Y,test_size=.3)"
   ]
  },
  {
   "cell_type": "code",
   "execution_count": 38,
   "metadata": {},
   "outputs": [],
   "source": [
    "# Look at how the data gets split - what is the distribution of the various classes\n",
    "print(x_train.shape)\n",
    "print(x_test.shape)\n",
    "\n",
    "# count total, test, and training distibution by class\n",
    "from collections import Counter\n",
    "total_counts = Counter(Y)\n",
    "training_counts = Counter(y_train)\n",
    "test_counts = Counter(y_test)\n",
    "print (\"Data Analysis\\n\")\n",
    "print(\"Totals by Classification:\", total_counts)\n",
    "print(\"Training Data counts:\", training_counts)\n",
    "print(\"Test Data Counts:\", test_counts)\n",
    "print(\"---------------\",\"\\n\\n\")"
   ]
  },
  {
   "cell_type": "markdown",
   "metadata": {},
   "source": [
    "## Create and Evaluate Models\n",
    "Run through several models included K-Nearest Neighbors, Support Vector Machine (SVM), Decision Tree, and Random Forest to determine which one performs best when looking at accuracy and weighted F1 score(s). I also then performed cross validation to determine if the train/test split might have a significant impact on the models overall performance."
   ]
  },
  {
   "cell_type": "code",
   "execution_count": 39,
   "metadata": {},
   "outputs": [],
   "source": [
    "#Import classifiction models\n",
    "#\n",
    "from sklearn import svm\n",
    "from sklearn.tree import DecisionTreeClassifier\n",
    "from sklearn.ensemble import RandomForestClassifier\n",
    "from sklearn.neighbors import KNeighborsClassifier\n",
    "from sklearn import metrics\n",
    "from sklearn.metrics import classification_report"
   ]
  },
  {
   "cell_type": "code",
   "execution_count": 40,
   "metadata": {},
   "outputs": [],
   "source": [
    "# Create a functino to run through each classification model and print it's results in order to compare them\n",
    "# to find the \"best\" one\n",
    "#\n",
    "def model_eval(dict):\n",
    "    \n",
    "    for key,value in dict.items():\n",
    "\n",
    "        classifier = value\n",
    "        classifier.fit(x_train, y_train)\n",
    "        predictions = classifier.predict(x_test)\n",
    "        print(\"Accuracy Score of\" , key ,  \": \", metrics.accuracy_score(y_test,predictions))\n",
    "        result = pd.crosstab(y_test, predictions, rownames=['Actual Result'], colnames=['Predicted Result'])\n",
    "        print(result)\n",
    "        print(metrics.classification_report(y_test,predictions, zero_division=0))\n",
    "        print(\"F1 Score:\", metrics.f1_score(y_test, predictions, average=\"weighted\", labels=np.unique(predictions), zero_division=0))\n",
    "        #\n",
    "        print (\"Cross Validated Results\")\n",
    "        from sklearn.model_selection import cross_val_score\n",
    "        cv_scores = cross_val_score(classifier,X,Y,cv=3)\n",
    "        print(cv_scores)\n",
    "        print(\"---------------\",\"\\n\")"
   ]
  },
  {
   "cell_type": "code",
   "execution_count": 41,
   "metadata": {},
   "outputs": [],
   "source": [
    "# Create the list of models to evaluate and then run them through the evaluation function\n",
    "#\n",
    "model_list =  { \"KNeighborsClassifier\": KNeighborsClassifier(5),\"SVM\":\n",
    "    svm.SVC(kernel='linear'), \"DecisionTree\": DecisionTreeClassifier(random_state=0), \"RandomForest\": RandomForestClassifier(n_jobs=2, random_state=0)}\n",
    "model_eval(model_list)\n",
    "#\n",
    "# Next, testing a number of K-nearest neighbors values\n",
    "model_list =  {\"KNeighbors2\": KNeighborsClassifier(2), \"KNeighbors3\": KNeighborsClassifier(3), \"KNeighbors4\": KNeighborsClassifier(4), \"KNeighbors5\": KNeighborsClassifier(5), \"KNeighbors6\": KNeighborsClassifier(6), \"KNeighbors7\": KNeighborsClassifier(7), \"KNeighbors8\": KNeighborsClassifier(8)}\n",
    "model_eval(model_list)\n",
    "\n",
    "sys.stdout = original_stdout # Reset the standard output to its original value\n",
    "outf.close() # Close the file"
   ]
  },
  {
   "cell_type": "code",
   "execution_count": null,
   "metadata": {},
   "outputs": [],
   "source": []
  }
 ],
 "metadata": {
  "kernelspec": {
   "display_name": "Python 3 (ipykernel)",
   "language": "python",
   "name": "python3"
  },
  "language_info": {
   "codemirror_mode": {
    "name": "ipython",
    "version": 3
   },
   "file_extension": ".py",
   "mimetype": "text/x-python",
   "name": "python",
   "nbconvert_exporter": "python",
   "pygments_lexer": "ipython3",
   "version": "3.9.7"
  }
 },
 "nbformat": 4,
 "nbformat_minor": 4
}
