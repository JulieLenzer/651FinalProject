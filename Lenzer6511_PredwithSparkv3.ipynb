{
 "cells": [
  {
   "cell_type": "markdown",
   "metadata": {},
   "source": [
    "# MSML651 Final Project\n",
    "## Part 2: Prediction using SPARK MLLib\n",
    "## Julie Lenzer\n",
    "\n",
    "In this project, I am investigating the classification of poker hands given an ordered list of cards in a draw.\n",
    "\n",
    "I ran the training data against a number of different classification models and determined that the RandomForest was the best model to use."
   ]
  },
  {
   "cell_type": "code",
   "execution_count": 1,
   "metadata": {},
   "outputs": [],
   "source": [
    "import pandas as pd\n",
    "from pyspark import SparkConf, SparkContext\n",
    "from pyspark.sql import SparkSession\n",
    "from pyspark.ml.classification import RandomForestClassifier\n",
    "from pyspark.ml.feature import IndexToString, StringIndexer, VectorIndexer, OneHotEncoder, VectorAssembler\n",
    "from pyspark.ml.evaluation import MulticlassClassificationEvaluator\n",
    "from pyspark.mllib.evaluation import MulticlassMetrics\n",
    "from pyspark.ml import Pipeline\n",
    "from pyspark.sql.types import StructType, StructField, IntegerType, StringType"
   ]
  },
  {
   "cell_type": "code",
   "execution_count": 2,
   "metadata": {},
   "outputs": [],
   "source": [
    "import warnings\n",
    "warnings.filterwarnings(\"ignore\",category=DeprecationWarning)"
   ]
  },
  {
   "cell_type": "markdown",
   "metadata": {},
   "source": [
    "## Create a File and redirect system output to that file"
   ]
  },
  {
   "cell_type": "code",
   "execution_count": 35,
   "metadata": {},
   "outputs": [],
   "source": [
    "import sys\n",
    "    \n",
    "original_stdout = sys.stdout # Save a reference to the original standard output\n",
    "outf = open(\"LenzerOut-RF Prediction.txt\", \"w\")\n",
    "sys.stdout = outf # Change the standard output to the file we created.\n",
    "print(\"MSML651 - Lenzer Final Project\\nPrediction using Spark MLlib\", \"\\n\\n\")"
   ]
  },
  {
   "cell_type": "markdown",
   "metadata": {},
   "source": [
    "## Initiate Spark Session and use it to load data\n",
    "\n",
    "Given the size of the test data (1,000,000 records), I will use spark MLLib to make better use of system resources\n",
    "and multiple processors to train our model, make predictions on the test set and evaluate the outcomes."
   ]
  },
  {
   "cell_type": "code",
   "execution_count": 36,
   "metadata": {},
   "outputs": [],
   "source": [
    "# Start Spark session and load both training and test data\n",
    "\n",
    "spark = SparkSession.builder.appName(\"MSML651-FinalProj\").getOrCreate()\n",
    "\n",
    "# Load and parse the data file, converting it to a DataFrame.\n",
    "train_data = spark.read.format(\"csv\").options(header=\"false\", inferSchema=\"true\", sep=\",\").load(\"poker-hand-training.data\")\n",
    "test_data = spark.read.format(\"csv\").options(header=\"false\", inferSchema=\"true\", sep=\",\").load(\"poker-hand-testing.data\")"
   ]
  },
  {
   "cell_type": "markdown",
   "metadata": {},
   "source": [
    "## Transform the data to be used with Spark MLlib\n",
    "\n",
    "In order to use the training data with the Spark MLLib random forest, we need to assemble all our categorical data into a single vector to be used in training and prediction."
   ]
  },
  {
   "cell_type": "code",
   "execution_count": 37,
   "metadata": {},
   "outputs": [],
   "source": [
    "#Transform the data in the DF to get features into a single vector\n",
    "#\n",
    "# Set up list of the categorial columns (which is all of them)\n",
    "categoricalCols = ['_c0', '_c1', '_c2', '_c3', '_c4', '_c5', '_c6', '_c7', '_c8', '_c9']\n",
    "# Assemble our categorial data into a single vector\n",
    "assembler = VectorAssembler(inputCols=categoricalCols, outputCol=\"features\")\n",
    "# Set up a pipeline for all the data prep and transforming features into vectors\n",
    "#\n",
    "pipeline = Pipeline(stages = [assembler])\n",
    "# Transform both the training and test data to assemble and add these feature vectors\n",
    "train_data = pipeline.fit(train_data).transform(train_data)\n",
    "test_data = pipeline.fit(test_data).transform(test_data)"
   ]
  },
  {
   "cell_type": "markdown",
   "metadata": {},
   "source": [
    "## Train the model and run it against the test data\n",
    "\n",
    "The sequence of tasks include indexing the labels (Y) and the features, running it through the RF model and then converting\n",
    "the indexes received BACK into label. This is done by evaluating (fit) on the training data and then tranforming the test data"
   ]
  },
  {
   "cell_type": "code",
   "execution_count": 38,
   "metadata": {},
   "outputs": [],
   "source": [
    "### Train a RandomForest model.\n",
    "#\n",
    "# Set up the RF classifier \n",
    "rf = RandomForestClassifier(labelCol=\"_c10\", featuresCol=\"features\", featureSubsetStrategy=\"all\", maxDepth=30,maxBins=13,seed=42)\n",
    "\n",
    "# Chain indexers and forest in a Pipeline followed by the conversion back to the label\n",
    "pipeline = Pipeline(stages=[rf])\n",
    "\n",
    "# Train model.  This also runs the indexers.\n",
    "model = pipeline.fit(train_data)\n",
    "\n",
    "# Make predictions.\n",
    "predictions = model.transform(test_data)"
   ]
  },
  {
   "cell_type": "markdown",
   "metadata": {},
   "source": [
    "## Evaluate outcomes\n",
    "\n",
    "Look at various measures of our model including accuracy, F1 score, and a mapping of actual to predicted values by class."
   ]
  },
  {
   "cell_type": "code",
   "execution_count": 39,
   "metadata": {},
   "outputs": [],
   "source": [
    "evaluator = MulticlassClassificationEvaluator(labelCol=\"_c10\", predictionCol=\"prediction\", metricName=\"accuracy\")\n",
    "accuracy = evaluator.evaluate(predictions)\n",
    "print(\"Test Error = %g\" % (1.0 - accuracy))\n",
    "print(\"Accuracy = %g\" % accuracy)\n",
    "evaluator = MulticlassClassificationEvaluator(labelCol=\"_c10\", predictionCol=\"prediction\", metricName=\"f1\")\n",
    "f1 = evaluator.evaluate(predictions)\n",
    "print(\"F1 Score = %g\" % f1)"
   ]
  },
  {
   "cell_type": "code",
   "execution_count": 40,
   "metadata": {},
   "outputs": [],
   "source": [
    "# Create our own mapping of actual class values to predicted\n",
    "#\n",
    "pred_val = predictions.select(\"prediction\").toPandas()\n",
    "actual_val = predictions.select(\"_c10\").toPandas()\n",
    "pred_pd = pred_val.loc[:,'prediction']\n",
    "actual_pd = actual_val.loc[:,'_c10']\n",
    "result = pd.crosstab(actual_pd, pred_pd, rownames=['Actual Result'], colnames=['Predicted Result'])\n",
    "print(result)\n",
    "# Close output file and return output to screen\n",
    "sys.stdout = original_stdout # Reset the standard output to its original value\n",
    "outf.close() # Close the file"
   ]
  },
  {
   "cell_type": "code",
   "execution_count": 41,
   "metadata": {},
   "outputs": [
    {
     "data": {
      "text/plain": [
       "<sklearn.metrics._plot.confusion_matrix.ConfusionMatrixDisplay at 0x1dae3244df0>"
      ]
     },
     "execution_count": 41,
     "metadata": {},
     "output_type": "execute_result"
    },
    {
     "data": {
      "image/png": "[encoded data removed]",
      "text/plain": [
       "<Figure size 432x288 with 2 Axes>"
      ]
     },
     "metadata": {
      "needs_background": "light"
     },
     "output_type": "display_data"
    }
   ],
   "source": [
    "# Develop a graphic version of the Confusion Matrix\n",
    "from sklearn.metrics import ConfusionMatrixDisplay, confusion_matrix\n",
    "\n",
    "# Pull out true and predicted values\n",
    "y_pred=predictions.select(\"prediction\").collect()\n",
    "y_orig=predictions.select(\"_c10\").collect()\n",
    "# Set up the labels\n",
    "classLabel = ('0', '1', '2', '3', '4', '5', '6', '7', '8', '9')\n",
    "# Generate the matrix\n",
    "cm = confusion_matrix(y_orig, y_pred)\n",
    "# DIsplay it as a graphic\n",
    "disp = ConfusionMatrixDisplay(confusion_matrix=cm, display_labels=classLabel)\n",
    "disp.plot(include_values= False) "
   ]
  },
  {
   "cell_type": "markdown",
   "metadata": {},
   "source": [
    "# Write raw predictions to a file\n",
    "\n",
    "Write the raw predictions to a csv / text file"
   ]
  },
  {
   "cell_type": "code",
   "execution_count": 42,
   "metadata": {},
   "outputs": [],
   "source": [
    "#Drop array columns from Spark dataframe in order to write clean data to file\n",
    "pred_out = predictions.drop('features', 'rawPrediction', 'probability')\n",
    "pred_out.toPandas().to_csv(\"LenzerOut - Raw Predictions.csv\")"
   ]
  },
  {
   "cell_type": "code",
   "execution_count": 43,
   "metadata": {},
   "outputs": [],
   "source": [
    "# Stop Spark\n",
    "spark.stop() # Stop the Spark Session"
   ]
  },
  {
   "cell_type": "code",
   "execution_count": null,
   "metadata": {},
   "outputs": [],
   "source": []
  }
 ],
 "metadata": {
  "kernelspec": {
   "display_name": "Python 3 (ipykernel)",
   "language": "python",
   "name": "python3"
  },
  "language_info": {
   "codemirror_mode": {
    "name": "ipython",
    "version": 3
   },
   "file_extension": ".py",
   "mimetype": "text/x-python",
   "name": "python",
   "nbconvert_exporter": "python",
   "pygments_lexer": "ipython3",
   "version": "3.9.7"
  }
 },
 "nbformat": 4,
 "nbformat_minor": 4
}
